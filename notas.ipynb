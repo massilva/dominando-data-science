{
  "nbformat": 4,
  "nbformat_minor": 0,
  "metadata": {
    "colab": {
      "name": "notas.ipynb",
      "provenance": [],
      "collapsed_sections": [],
      "authorship_tag": "ABX9TyO6oKaeSpzbn8C6meowo4I5",
      "include_colab_link": true
    },
    "kernelspec": {
      "name": "python3",
      "display_name": "Python 3"
    },
    "language_info": {
      "name": "python"
    }
  },
  "cells": [
    {
      "cell_type": "markdown",
      "metadata": {
        "id": "view-in-github",
        "colab_type": "text"
      },
      "source": [
        "<a href=\"https://colab.research.google.com/github/massilva/dominando-data-science/blob/main/notas.ipynb\" target=\"_parent\"><img src=\"https://colab.research.google.com/assets/colab-badge.svg\" alt=\"Open In Colab\"/></a>"
      ]
    },
    {
      "cell_type": "markdown",
      "source": [
        "# Notas"
      ],
      "metadata": {
        "id": "jOAwB0zsd0LQ"
      }
    },
    {
      "cell_type": "code",
      "source": [
        "!pip install names"
      ],
      "metadata": {
        "colab": {
          "base_uri": "https://localhost:8080/"
        },
        "id": "j_YOXqnGeJKg",
        "outputId": "e41058b3-be4f-4ad9-a680-3bb07e2563e2"
      },
      "execution_count": 2,
      "outputs": [
        {
          "output_type": "stream",
          "name": "stdout",
          "text": [
            "Collecting names\n",
            "  Downloading names-0.3.0.tar.gz (789 kB)\n",
            "\u001b[?25l\r\u001b[K     |▍                               | 10 kB 21.4 MB/s eta 0:00:01\r\u001b[K     |▉                               | 20 kB 26.9 MB/s eta 0:00:01\r\u001b[K     |█▎                              | 30 kB 12.7 MB/s eta 0:00:01\r\u001b[K     |█▋                              | 40 kB 9.3 MB/s eta 0:00:01\r\u001b[K     |██                              | 51 kB 5.2 MB/s eta 0:00:01\r\u001b[K     |██▌                             | 61 kB 5.7 MB/s eta 0:00:01\r\u001b[K     |███                             | 71 kB 5.5 MB/s eta 0:00:01\r\u001b[K     |███▎                            | 81 kB 6.1 MB/s eta 0:00:01\r\u001b[K     |███▊                            | 92 kB 4.7 MB/s eta 0:00:01\r\u001b[K     |████▏                           | 102 kB 5.0 MB/s eta 0:00:01\r\u001b[K     |████▋                           | 112 kB 5.0 MB/s eta 0:00:01\r\u001b[K     |█████                           | 122 kB 5.0 MB/s eta 0:00:01\r\u001b[K     |█████▍                          | 133 kB 5.0 MB/s eta 0:00:01\r\u001b[K     |█████▉                          | 143 kB 5.0 MB/s eta 0:00:01\r\u001b[K     |██████▎                         | 153 kB 5.0 MB/s eta 0:00:01\r\u001b[K     |██████▋                         | 163 kB 5.0 MB/s eta 0:00:01\r\u001b[K     |███████                         | 174 kB 5.0 MB/s eta 0:00:01\r\u001b[K     |███████▌                        | 184 kB 5.0 MB/s eta 0:00:01\r\u001b[K     |████████                        | 194 kB 5.0 MB/s eta 0:00:01\r\u001b[K     |████████▎                       | 204 kB 5.0 MB/s eta 0:00:01\r\u001b[K     |████████▊                       | 215 kB 5.0 MB/s eta 0:00:01\r\u001b[K     |█████████▏                      | 225 kB 5.0 MB/s eta 0:00:01\r\u001b[K     |█████████▌                      | 235 kB 5.0 MB/s eta 0:00:01\r\u001b[K     |██████████                      | 245 kB 5.0 MB/s eta 0:00:01\r\u001b[K     |██████████▍                     | 256 kB 5.0 MB/s eta 0:00:01\r\u001b[K     |██████████▉                     | 266 kB 5.0 MB/s eta 0:00:01\r\u001b[K     |███████████▏                    | 276 kB 5.0 MB/s eta 0:00:01\r\u001b[K     |███████████▋                    | 286 kB 5.0 MB/s eta 0:00:01\r\u001b[K     |████████████                    | 296 kB 5.0 MB/s eta 0:00:01\r\u001b[K     |████████████▌                   | 307 kB 5.0 MB/s eta 0:00:01\r\u001b[K     |████████████▉                   | 317 kB 5.0 MB/s eta 0:00:01\r\u001b[K     |█████████████▎                  | 327 kB 5.0 MB/s eta 0:00:01\r\u001b[K     |█████████████▊                  | 337 kB 5.0 MB/s eta 0:00:01\r\u001b[K     |██████████████▏                 | 348 kB 5.0 MB/s eta 0:00:01\r\u001b[K     |██████████████▌                 | 358 kB 5.0 MB/s eta 0:00:01\r\u001b[K     |███████████████                 | 368 kB 5.0 MB/s eta 0:00:01\r\u001b[K     |███████████████▍                | 378 kB 5.0 MB/s eta 0:00:01\r\u001b[K     |███████████████▉                | 389 kB 5.0 MB/s eta 0:00:01\r\u001b[K     |████████████████▏               | 399 kB 5.0 MB/s eta 0:00:01\r\u001b[K     |████████████████▋               | 409 kB 5.0 MB/s eta 0:00:01\r\u001b[K     |█████████████████               | 419 kB 5.0 MB/s eta 0:00:01\r\u001b[K     |█████████████████▍              | 430 kB 5.0 MB/s eta 0:00:01\r\u001b[K     |█████████████████▉              | 440 kB 5.0 MB/s eta 0:00:01\r\u001b[K     |██████████████████▎             | 450 kB 5.0 MB/s eta 0:00:01\r\u001b[K     |██████████████████▊             | 460 kB 5.0 MB/s eta 0:00:01\r\u001b[K     |███████████████████             | 471 kB 5.0 MB/s eta 0:00:01\r\u001b[K     |███████████████████▌            | 481 kB 5.0 MB/s eta 0:00:01\r\u001b[K     |████████████████████            | 491 kB 5.0 MB/s eta 0:00:01\r\u001b[K     |████████████████████▍           | 501 kB 5.0 MB/s eta 0:00:01\r\u001b[K     |████████████████████▊           | 512 kB 5.0 MB/s eta 0:00:01\r\u001b[K     |█████████████████████▏          | 522 kB 5.0 MB/s eta 0:00:01\r\u001b[K     |█████████████████████▋          | 532 kB 5.0 MB/s eta 0:00:01\r\u001b[K     |██████████████████████          | 542 kB 5.0 MB/s eta 0:00:01\r\u001b[K     |██████████████████████▍         | 552 kB 5.0 MB/s eta 0:00:01\r\u001b[K     |██████████████████████▉         | 563 kB 5.0 MB/s eta 0:00:01\r\u001b[K     |███████████████████████▎        | 573 kB 5.0 MB/s eta 0:00:01\r\u001b[K     |███████████████████████▊        | 583 kB 5.0 MB/s eta 0:00:01\r\u001b[K     |████████████████████████        | 593 kB 5.0 MB/s eta 0:00:01\r\u001b[K     |████████████████████████▌       | 604 kB 5.0 MB/s eta 0:00:01\r\u001b[K     |█████████████████████████       | 614 kB 5.0 MB/s eta 0:00:01\r\u001b[K     |█████████████████████████▎      | 624 kB 5.0 MB/s eta 0:00:01\r\u001b[K     |█████████████████████████▊      | 634 kB 5.0 MB/s eta 0:00:01\r\u001b[K     |██████████████████████████▏     | 645 kB 5.0 MB/s eta 0:00:01\r\u001b[K     |██████████████████████████▋     | 655 kB 5.0 MB/s eta 0:00:01\r\u001b[K     |███████████████████████████     | 665 kB 5.0 MB/s eta 0:00:01\r\u001b[K     |███████████████████████████▍    | 675 kB 5.0 MB/s eta 0:00:01\r\u001b[K     |███████████████████████████▉    | 686 kB 5.0 MB/s eta 0:00:01\r\u001b[K     |████████████████████████████▎   | 696 kB 5.0 MB/s eta 0:00:01\r\u001b[K     |████████████████████████████▋   | 706 kB 5.0 MB/s eta 0:00:01\r\u001b[K     |█████████████████████████████   | 716 kB 5.0 MB/s eta 0:00:01\r\u001b[K     |█████████████████████████████▌  | 727 kB 5.0 MB/s eta 0:00:01\r\u001b[K     |██████████████████████████████  | 737 kB 5.0 MB/s eta 0:00:01\r\u001b[K     |██████████████████████████████▎ | 747 kB 5.0 MB/s eta 0:00:01\r\u001b[K     |██████████████████████████████▊ | 757 kB 5.0 MB/s eta 0:00:01\r\u001b[K     |███████████████████████████████▏| 768 kB 5.0 MB/s eta 0:00:01\r\u001b[K     |███████████████████████████████▋| 778 kB 5.0 MB/s eta 0:00:01\r\u001b[K     |████████████████████████████████| 788 kB 5.0 MB/s eta 0:00:01\r\u001b[K     |████████████████████████████████| 789 kB 5.0 MB/s \n",
            "\u001b[?25hBuilding wheels for collected packages: names\n",
            "  Building wheel for names (setup.py) ... \u001b[?25l\u001b[?25hdone\n",
            "  Created wheel for names: filename=names-0.3.0-py3-none-any.whl size=803698 sha256=ae7250e569e53186c1d30e7955cc174f35124d7cd44465b37dff040bbc85c86a\n",
            "  Stored in directory: /root/.cache/pip/wheels/05/ea/68/92f6b0669e478af9b7c3c524520d03050089e034edcc775c2b\n",
            "Successfully built names\n",
            "Installing collected packages: names\n",
            "Successfully installed names-0.3.0\n"
          ]
        }
      ]
    },
    {
      "cell_type": "code",
      "source": [
        "import numpy as np\n",
        "import pandas as pd\n",
        "import names\n",
        "\n",
        "size = 999\n",
        "params = {'low': 0.0, 'high': 10.0, 'size': size}\n",
        "header = ['P1', 'P2', 'P3']\n",
        "columns_size = len(header)\n",
        "lines_count = params['size'] // columns_size\n",
        "indexes, idx = set([]), 0\n",
        "\n",
        "while len(indexes) < lines_count:\n",
        "  indexes.add(names.get_full_name())\n",
        "\n",
        "grades = np.random.uniform(**params).reshape(lines_count, columns_size).round(2)\n",
        "grades = pd.DataFrame(data=grades, columns=header, index=indexes)\n",
        "\n",
        "grades.head()"
      ],
      "metadata": {
        "colab": {
          "base_uri": "https://localhost:8080/",
          "height": 206
        },
        "id": "A7EcmyfUiV-L",
        "outputId": "3ee08637-b3dc-44d3-92ff-f13c477464d8"
      },
      "execution_count": 8,
      "outputs": [
        {
          "output_type": "execute_result",
          "data": {
            "text/html": [
              "<div>\n",
              "<style scoped>\n",
              "    .dataframe tbody tr th:only-of-type {\n",
              "        vertical-align: middle;\n",
              "    }\n",
              "\n",
              "    .dataframe tbody tr th {\n",
              "        vertical-align: top;\n",
              "    }\n",
              "\n",
              "    .dataframe thead th {\n",
              "        text-align: right;\n",
              "    }\n",
              "</style>\n",
              "<table border=\"1\" class=\"dataframe\">\n",
              "  <thead>\n",
              "    <tr style=\"text-align: right;\">\n",
              "      <th></th>\n",
              "      <th>P1</th>\n",
              "      <th>P2</th>\n",
              "      <th>P3</th>\n",
              "    </tr>\n",
              "  </thead>\n",
              "  <tbody>\n",
              "    <tr>\n",
              "      <th>Allan Taylor</th>\n",
              "      <td>1.20</td>\n",
              "      <td>9.76</td>\n",
              "      <td>8.61</td>\n",
              "    </tr>\n",
              "    <tr>\n",
              "      <th>Claudette Carter</th>\n",
              "      <td>1.19</td>\n",
              "      <td>6.54</td>\n",
              "      <td>4.46</td>\n",
              "    </tr>\n",
              "    <tr>\n",
              "      <th>Carla Baylon</th>\n",
              "      <td>1.79</td>\n",
              "      <td>0.65</td>\n",
              "      <td>0.06</td>\n",
              "    </tr>\n",
              "    <tr>\n",
              "      <th>Mary Orizabal</th>\n",
              "      <td>9.74</td>\n",
              "      <td>1.87</td>\n",
              "      <td>0.55</td>\n",
              "    </tr>\n",
              "    <tr>\n",
              "      <th>Kelly Powers</th>\n",
              "      <td>0.55</td>\n",
              "      <td>0.45</td>\n",
              "      <td>8.11</td>\n",
              "    </tr>\n",
              "  </tbody>\n",
              "</table>\n",
              "</div>"
            ],
            "text/plain": [
              "                    P1    P2    P3\n",
              "Allan Taylor      1.20  9.76  8.61\n",
              "Claudette Carter  1.19  6.54  4.46\n",
              "Carla Baylon      1.79  0.65  0.06\n",
              "Mary Orizabal     9.74  1.87  0.55\n",
              "Kelly Powers      0.55  0.45  8.11"
            ]
          },
          "metadata": {},
          "execution_count": 8
        }
      ]
    },
    {
      "cell_type": "markdown",
      "source": [
        "### Descrevendo os dados da nota\n",
        "\n",
        "* **count** - quantidades (tamanho da lista);\n",
        "* **mean** - média;\n",
        "* **std** - grau de dispersão de um conjunto de dados (desvio padrão);\n",
        "* **min** - menor valor;\n",
        "* **25%** - delimita os 25% menores valores (primeiro quartil ou quartil inferior);\n",
        "* **50%** - mediana (segundo quartil);\n",
        "* **75%** - delimita os 25% maior valores (terceiro quartil ou quartil superior);\n",
        "* **max** - maior valor;"
      ],
      "metadata": {
        "id": "6Vcdf87UmMnb"
      }
    },
    {
      "cell_type": "code",
      "source": [
        "grades.describe()"
      ],
      "metadata": {
        "colab": {
          "base_uri": "https://localhost:8080/",
          "height": 300
        },
        "id": "vMfTdtxZeOVr",
        "outputId": "cfa1e9f3-84ab-4946-febd-5d8b2a50f26a"
      },
      "execution_count": 9,
      "outputs": [
        {
          "output_type": "execute_result",
          "data": {
            "text/html": [
              "<div>\n",
              "<style scoped>\n",
              "    .dataframe tbody tr th:only-of-type {\n",
              "        vertical-align: middle;\n",
              "    }\n",
              "\n",
              "    .dataframe tbody tr th {\n",
              "        vertical-align: top;\n",
              "    }\n",
              "\n",
              "    .dataframe thead th {\n",
              "        text-align: right;\n",
              "    }\n",
              "</style>\n",
              "<table border=\"1\" class=\"dataframe\">\n",
              "  <thead>\n",
              "    <tr style=\"text-align: right;\">\n",
              "      <th></th>\n",
              "      <th>P1</th>\n",
              "      <th>P2</th>\n",
              "      <th>P3</th>\n",
              "    </tr>\n",
              "  </thead>\n",
              "  <tbody>\n",
              "    <tr>\n",
              "      <th>count</th>\n",
              "      <td>333.000000</td>\n",
              "      <td>333.000000</td>\n",
              "      <td>333.000000</td>\n",
              "    </tr>\n",
              "    <tr>\n",
              "      <th>mean</th>\n",
              "      <td>4.912402</td>\n",
              "      <td>4.858709</td>\n",
              "      <td>5.170390</td>\n",
              "    </tr>\n",
              "    <tr>\n",
              "      <th>std</th>\n",
              "      <td>2.885571</td>\n",
              "      <td>2.959087</td>\n",
              "      <td>2.856161</td>\n",
              "    </tr>\n",
              "    <tr>\n",
              "      <th>min</th>\n",
              "      <td>0.020000</td>\n",
              "      <td>0.000000</td>\n",
              "      <td>0.010000</td>\n",
              "    </tr>\n",
              "    <tr>\n",
              "      <th>25%</th>\n",
              "      <td>2.320000</td>\n",
              "      <td>2.250000</td>\n",
              "      <td>2.940000</td>\n",
              "    </tr>\n",
              "    <tr>\n",
              "      <th>50%</th>\n",
              "      <td>5.020000</td>\n",
              "      <td>4.650000</td>\n",
              "      <td>5.310000</td>\n",
              "    </tr>\n",
              "    <tr>\n",
              "      <th>75%</th>\n",
              "      <td>7.380000</td>\n",
              "      <td>7.560000</td>\n",
              "      <td>7.470000</td>\n",
              "    </tr>\n",
              "    <tr>\n",
              "      <th>max</th>\n",
              "      <td>9.990000</td>\n",
              "      <td>9.930000</td>\n",
              "      <td>10.000000</td>\n",
              "    </tr>\n",
              "  </tbody>\n",
              "</table>\n",
              "</div>"
            ],
            "text/plain": [
              "               P1          P2          P3\n",
              "count  333.000000  333.000000  333.000000\n",
              "mean     4.912402    4.858709    5.170390\n",
              "std      2.885571    2.959087    2.856161\n",
              "min      0.020000    0.000000    0.010000\n",
              "25%      2.320000    2.250000    2.940000\n",
              "50%      5.020000    4.650000    5.310000\n",
              "75%      7.380000    7.560000    7.470000\n",
              "max      9.990000    9.930000   10.000000"
            ]
          },
          "metadata": {},
          "execution_count": 9
        }
      ]
    },
    {
      "cell_type": "markdown",
      "source": [
        "### Add coluna com a média das notas"
      ],
      "metadata": {
        "id": "jwFUTZ4QmEMe"
      }
    },
    {
      "cell_type": "code",
      "source": [
        "grades['MD'] = grades.mean(axis=1).round(2)\n",
        "grades.head()"
      ],
      "metadata": {
        "colab": {
          "base_uri": "https://localhost:8080/",
          "height": 206
        },
        "id": "kD54q84ajt2l",
        "outputId": "5a755e3b-c65a-4b71-fc9d-461e0465fc6b"
      },
      "execution_count": 10,
      "outputs": [
        {
          "output_type": "execute_result",
          "data": {
            "text/html": [
              "<div>\n",
              "<style scoped>\n",
              "    .dataframe tbody tr th:only-of-type {\n",
              "        vertical-align: middle;\n",
              "    }\n",
              "\n",
              "    .dataframe tbody tr th {\n",
              "        vertical-align: top;\n",
              "    }\n",
              "\n",
              "    .dataframe thead th {\n",
              "        text-align: right;\n",
              "    }\n",
              "</style>\n",
              "<table border=\"1\" class=\"dataframe\">\n",
              "  <thead>\n",
              "    <tr style=\"text-align: right;\">\n",
              "      <th></th>\n",
              "      <th>P1</th>\n",
              "      <th>P2</th>\n",
              "      <th>P3</th>\n",
              "      <th>MD</th>\n",
              "    </tr>\n",
              "  </thead>\n",
              "  <tbody>\n",
              "    <tr>\n",
              "      <th>Allan Taylor</th>\n",
              "      <td>1.20</td>\n",
              "      <td>9.76</td>\n",
              "      <td>8.61</td>\n",
              "      <td>6.52</td>\n",
              "    </tr>\n",
              "    <tr>\n",
              "      <th>Claudette Carter</th>\n",
              "      <td>1.19</td>\n",
              "      <td>6.54</td>\n",
              "      <td>4.46</td>\n",
              "      <td>4.06</td>\n",
              "    </tr>\n",
              "    <tr>\n",
              "      <th>Carla Baylon</th>\n",
              "      <td>1.79</td>\n",
              "      <td>0.65</td>\n",
              "      <td>0.06</td>\n",
              "      <td>0.83</td>\n",
              "    </tr>\n",
              "    <tr>\n",
              "      <th>Mary Orizabal</th>\n",
              "      <td>9.74</td>\n",
              "      <td>1.87</td>\n",
              "      <td>0.55</td>\n",
              "      <td>4.05</td>\n",
              "    </tr>\n",
              "    <tr>\n",
              "      <th>Kelly Powers</th>\n",
              "      <td>0.55</td>\n",
              "      <td>0.45</td>\n",
              "      <td>8.11</td>\n",
              "      <td>3.04</td>\n",
              "    </tr>\n",
              "  </tbody>\n",
              "</table>\n",
              "</div>"
            ],
            "text/plain": [
              "                    P1    P2    P3    MD\n",
              "Allan Taylor      1.20  9.76  8.61  6.52\n",
              "Claudette Carter  1.19  6.54  4.46  4.06\n",
              "Carla Baylon      1.79  0.65  0.06  0.83\n",
              "Mary Orizabal     9.74  1.87  0.55  4.05\n",
              "Kelly Powers      0.55  0.45  8.11  3.04"
            ]
          },
          "metadata": {},
          "execution_count": 10
        }
      ]
    },
    {
      "cell_type": "markdown",
      "source": [
        "### Cria coluna de resultado"
      ],
      "metadata": {
        "id": "utan9JeAl6vI"
      }
    },
    {
      "cell_type": "code",
      "source": [
        "grades['RESULTADO'] = grades['MD'].apply(lambda x: x >= 5.0 and 'Aprovado' or 'Reprovado')\n",
        "grades.head()"
      ],
      "metadata": {
        "colab": {
          "base_uri": "https://localhost:8080/",
          "height": 206
        },
        "id": "ZK0DU5AJkTNY",
        "outputId": "b4927876-d09e-4ff6-dcdb-0029ca3302c7"
      },
      "execution_count": 11,
      "outputs": [
        {
          "output_type": "execute_result",
          "data": {
            "text/html": [
              "<div>\n",
              "<style scoped>\n",
              "    .dataframe tbody tr th:only-of-type {\n",
              "        vertical-align: middle;\n",
              "    }\n",
              "\n",
              "    .dataframe tbody tr th {\n",
              "        vertical-align: top;\n",
              "    }\n",
              "\n",
              "    .dataframe thead th {\n",
              "        text-align: right;\n",
              "    }\n",
              "</style>\n",
              "<table border=\"1\" class=\"dataframe\">\n",
              "  <thead>\n",
              "    <tr style=\"text-align: right;\">\n",
              "      <th></th>\n",
              "      <th>P1</th>\n",
              "      <th>P2</th>\n",
              "      <th>P3</th>\n",
              "      <th>MD</th>\n",
              "      <th>RESULTADO</th>\n",
              "    </tr>\n",
              "  </thead>\n",
              "  <tbody>\n",
              "    <tr>\n",
              "      <th>Allan Taylor</th>\n",
              "      <td>1.20</td>\n",
              "      <td>9.76</td>\n",
              "      <td>8.61</td>\n",
              "      <td>6.52</td>\n",
              "      <td>Aprovado</td>\n",
              "    </tr>\n",
              "    <tr>\n",
              "      <th>Claudette Carter</th>\n",
              "      <td>1.19</td>\n",
              "      <td>6.54</td>\n",
              "      <td>4.46</td>\n",
              "      <td>4.06</td>\n",
              "      <td>Reprovado</td>\n",
              "    </tr>\n",
              "    <tr>\n",
              "      <th>Carla Baylon</th>\n",
              "      <td>1.79</td>\n",
              "      <td>0.65</td>\n",
              "      <td>0.06</td>\n",
              "      <td>0.83</td>\n",
              "      <td>Reprovado</td>\n",
              "    </tr>\n",
              "    <tr>\n",
              "      <th>Mary Orizabal</th>\n",
              "      <td>9.74</td>\n",
              "      <td>1.87</td>\n",
              "      <td>0.55</td>\n",
              "      <td>4.05</td>\n",
              "      <td>Reprovado</td>\n",
              "    </tr>\n",
              "    <tr>\n",
              "      <th>Kelly Powers</th>\n",
              "      <td>0.55</td>\n",
              "      <td>0.45</td>\n",
              "      <td>8.11</td>\n",
              "      <td>3.04</td>\n",
              "      <td>Reprovado</td>\n",
              "    </tr>\n",
              "  </tbody>\n",
              "</table>\n",
              "</div>"
            ],
            "text/plain": [
              "                    P1    P2    P3    MD  RESULTADO\n",
              "Allan Taylor      1.20  9.76  8.61  6.52   Aprovado\n",
              "Claudette Carter  1.19  6.54  4.46  4.06  Reprovado\n",
              "Carla Baylon      1.79  0.65  0.06  0.83  Reprovado\n",
              "Mary Orizabal     9.74  1.87  0.55  4.05  Reprovado\n",
              "Kelly Powers      0.55  0.45  8.11  3.04  Reprovado"
            ]
          },
          "metadata": {},
          "execution_count": 11
        }
      ]
    },
    {
      "cell_type": "markdown",
      "source": [
        "### Exportando CSV"
      ],
      "metadata": {
        "id": "iAsXw3fmoAvE"
      }
    },
    {
      "cell_type": "code",
      "source": [
        "grades.to_csv('notas.csv')"
      ],
      "metadata": {
        "id": "98mQ29_Zk454"
      },
      "execution_count": 12,
      "outputs": []
    }
  ]
}