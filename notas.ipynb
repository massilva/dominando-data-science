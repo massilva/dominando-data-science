{
  "nbformat": 4,
  "nbformat_minor": 0,
  "metadata": {
    "colab": {
      "name": "notas.ipynb",
      "provenance": [],
      "authorship_tag": "ABX9TyO6sPYWRLA/weIp64pZoPrl",
      "include_colab_link": true
    },
    "kernelspec": {
      "name": "python3",
      "display_name": "Python 3"
    },
    "language_info": {
      "name": "python"
    }
  },
  "cells": [
    {
      "cell_type": "markdown",
      "metadata": {
        "id": "view-in-github",
        "colab_type": "text"
      },
      "source": [
        "<a href=\"https://colab.research.google.com/github/massilva/dominando-data-science/blob/main/notas.ipynb\" target=\"_parent\"><img src=\"https://colab.research.google.com/assets/colab-badge.svg\" alt=\"Open In Colab\"/></a>"
      ]
    },
    {
      "cell_type": "markdown",
      "source": [
        "# Notas"
      ],
      "metadata": {
        "id": "jOAwB0zsd0LQ"
      }
    },
    {
      "cell_type": "code",
      "source": [
        "!pip install names"
      ],
      "metadata": {
        "colab": {
          "base_uri": "https://localhost:8080/"
        },
        "id": "j_YOXqnGeJKg",
        "outputId": "c7101d49-cb11-41d9-cc66-efd0f925e46b"
      },
      "execution_count": 17,
      "outputs": [
        {
          "output_type": "stream",
          "name": "stdout",
          "text": [
            "Requirement already satisfied: names in /usr/local/lib/python3.7/dist-packages (0.3.0)\n"
          ]
        }
      ]
    },
    {
      "cell_type": "code",
      "source": [
        "import numpy as np\n",
        "import pandas as pd\n",
        "import names\n",
        "\n",
        "size = 999\n",
        "params = {'low': 0.0, 'high': 10.0, 'size': size}\n",
        "header = ['P1', 'P2', 'P3']\n",
        "columns_size = len(header)\n",
        "lines_count = params['size'] // columns_size\n",
        "indexes = [names.get_full_name() for _ in range(lines_count)]\n",
        "\n",
        "notas = np.random.uniform(**params).reshape(lines_count, columns_size).round(2)\n",
        "notas = pd.DataFrame(data=notas, columns=header, index=indexes)\n",
        "\n",
        "notas.head()"
      ],
      "metadata": {
        "colab": {
          "base_uri": "https://localhost:8080/",
          "height": 206
        },
        "id": "A7EcmyfUiV-L",
        "outputId": "72fc41e1-d909-465f-c052-78f3bc0eed7f"
      },
      "execution_count": 20,
      "outputs": [
        {
          "output_type": "execute_result",
          "data": {
            "text/html": [
              "<div>\n",
              "<style scoped>\n",
              "    .dataframe tbody tr th:only-of-type {\n",
              "        vertical-align: middle;\n",
              "    }\n",
              "\n",
              "    .dataframe tbody tr th {\n",
              "        vertical-align: top;\n",
              "    }\n",
              "\n",
              "    .dataframe thead th {\n",
              "        text-align: right;\n",
              "    }\n",
              "</style>\n",
              "<table border=\"1\" class=\"dataframe\">\n",
              "  <thead>\n",
              "    <tr style=\"text-align: right;\">\n",
              "      <th></th>\n",
              "      <th>P1</th>\n",
              "      <th>P2</th>\n",
              "      <th>P3</th>\n",
              "    </tr>\n",
              "  </thead>\n",
              "  <tbody>\n",
              "    <tr>\n",
              "      <th>Matthew Moland</th>\n",
              "      <td>2.65</td>\n",
              "      <td>3.27</td>\n",
              "      <td>5.77</td>\n",
              "    </tr>\n",
              "    <tr>\n",
              "      <th>Ann Sanders</th>\n",
              "      <td>9.23</td>\n",
              "      <td>2.30</td>\n",
              "      <td>9.31</td>\n",
              "    </tr>\n",
              "    <tr>\n",
              "      <th>Dustin Craner</th>\n",
              "      <td>4.13</td>\n",
              "      <td>7.99</td>\n",
              "      <td>1.18</td>\n",
              "    </tr>\n",
              "    <tr>\n",
              "      <th>Joan Oconnell</th>\n",
              "      <td>6.33</td>\n",
              "      <td>1.62</td>\n",
              "      <td>6.65</td>\n",
              "    </tr>\n",
              "    <tr>\n",
              "      <th>Fred Santos</th>\n",
              "      <td>1.70</td>\n",
              "      <td>1.45</td>\n",
              "      <td>9.95</td>\n",
              "    </tr>\n",
              "  </tbody>\n",
              "</table>\n",
              "</div>"
            ],
            "text/plain": [
              "                  P1    P2    P3\n",
              "Matthew Moland  2.65  3.27  5.77\n",
              "Ann Sanders     9.23  2.30  9.31\n",
              "Dustin Craner   4.13  7.99  1.18\n",
              "Joan Oconnell   6.33  1.62  6.65\n",
              "Fred Santos     1.70  1.45  9.95"
            ]
          },
          "metadata": {},
          "execution_count": 20
        }
      ]
    },
    {
      "cell_type": "markdown",
      "source": [
        "### Descrevendo os dados da nota\n",
        "\n",
        "* **count** - quantidades (tamanho da lista);\n",
        "* **mean** - média;\n",
        "* **std** - grau de dispersão de um conjunto de dados (desvio padrão);\n",
        "* **min** - menor valor;\n",
        "* **25%** - delimita os 25% menores valores (primeiro quartil ou quartil inferior);\n",
        "* **50%** - mediana (segundo quartil);\n",
        "* **75%** - delimita os 25% maior valores (terceiro quartil ou quartil superior);\n",
        "* **max** - maior valor;"
      ],
      "metadata": {
        "id": "6Vcdf87UmMnb"
      }
    },
    {
      "cell_type": "code",
      "source": [
        "notas.describe()"
      ],
      "metadata": {
        "colab": {
          "base_uri": "https://localhost:8080/",
          "height": 300
        },
        "id": "vMfTdtxZeOVr",
        "outputId": "d5f3a1e6-e56a-4f5b-9790-0be2cafc15c9"
      },
      "execution_count": 22,
      "outputs": [
        {
          "output_type": "execute_result",
          "data": {
            "text/html": [
              "<div>\n",
              "<style scoped>\n",
              "    .dataframe tbody tr th:only-of-type {\n",
              "        vertical-align: middle;\n",
              "    }\n",
              "\n",
              "    .dataframe tbody tr th {\n",
              "        vertical-align: top;\n",
              "    }\n",
              "\n",
              "    .dataframe thead th {\n",
              "        text-align: right;\n",
              "    }\n",
              "</style>\n",
              "<table border=\"1\" class=\"dataframe\">\n",
              "  <thead>\n",
              "    <tr style=\"text-align: right;\">\n",
              "      <th></th>\n",
              "      <th>P1</th>\n",
              "      <th>P2</th>\n",
              "      <th>P3</th>\n",
              "    </tr>\n",
              "  </thead>\n",
              "  <tbody>\n",
              "    <tr>\n",
              "      <th>count</th>\n",
              "      <td>333.000000</td>\n",
              "      <td>333.000000</td>\n",
              "      <td>333.000000</td>\n",
              "    </tr>\n",
              "    <tr>\n",
              "      <th>mean</th>\n",
              "      <td>5.193333</td>\n",
              "      <td>4.943093</td>\n",
              "      <td>4.946547</td>\n",
              "    </tr>\n",
              "    <tr>\n",
              "      <th>std</th>\n",
              "      <td>2.835840</td>\n",
              "      <td>2.950052</td>\n",
              "      <td>2.947423</td>\n",
              "    </tr>\n",
              "    <tr>\n",
              "      <th>min</th>\n",
              "      <td>0.040000</td>\n",
              "      <td>0.050000</td>\n",
              "      <td>0.000000</td>\n",
              "    </tr>\n",
              "    <tr>\n",
              "      <th>25%</th>\n",
              "      <td>2.810000</td>\n",
              "      <td>2.360000</td>\n",
              "      <td>2.350000</td>\n",
              "    </tr>\n",
              "    <tr>\n",
              "      <th>50%</th>\n",
              "      <td>5.210000</td>\n",
              "      <td>4.780000</td>\n",
              "      <td>4.850000</td>\n",
              "    </tr>\n",
              "    <tr>\n",
              "      <th>75%</th>\n",
              "      <td>7.640000</td>\n",
              "      <td>7.540000</td>\n",
              "      <td>7.550000</td>\n",
              "    </tr>\n",
              "    <tr>\n",
              "      <th>max</th>\n",
              "      <td>9.990000</td>\n",
              "      <td>9.960000</td>\n",
              "      <td>9.950000</td>\n",
              "    </tr>\n",
              "  </tbody>\n",
              "</table>\n",
              "</div>"
            ],
            "text/plain": [
              "               P1          P2          P3\n",
              "count  333.000000  333.000000  333.000000\n",
              "mean     5.193333    4.943093    4.946547\n",
              "std      2.835840    2.950052    2.947423\n",
              "min      0.040000    0.050000    0.000000\n",
              "25%      2.810000    2.360000    2.350000\n",
              "50%      5.210000    4.780000    4.850000\n",
              "75%      7.640000    7.540000    7.550000\n",
              "max      9.990000    9.960000    9.950000"
            ]
          },
          "metadata": {},
          "execution_count": 22
        }
      ]
    },
    {
      "cell_type": "markdown",
      "source": [
        "### Add coluna com a média das notas"
      ],
      "metadata": {
        "id": "jwFUTZ4QmEMe"
      }
    },
    {
      "cell_type": "code",
      "source": [
        "notas['MD'] = notas.mean(axis=1).round(2)\n",
        "notas.head()"
      ],
      "metadata": {
        "colab": {
          "base_uri": "https://localhost:8080/",
          "height": 206
        },
        "id": "kD54q84ajt2l",
        "outputId": "2982cbcb-9e83-496d-8145-bbd37cd16da2"
      },
      "execution_count": 35,
      "outputs": [
        {
          "output_type": "execute_result",
          "data": {
            "text/html": [
              "<div>\n",
              "<style scoped>\n",
              "    .dataframe tbody tr th:only-of-type {\n",
              "        vertical-align: middle;\n",
              "    }\n",
              "\n",
              "    .dataframe tbody tr th {\n",
              "        vertical-align: top;\n",
              "    }\n",
              "\n",
              "    .dataframe thead th {\n",
              "        text-align: right;\n",
              "    }\n",
              "</style>\n",
              "<table border=\"1\" class=\"dataframe\">\n",
              "  <thead>\n",
              "    <tr style=\"text-align: right;\">\n",
              "      <th></th>\n",
              "      <th>P1</th>\n",
              "      <th>P2</th>\n",
              "      <th>P3</th>\n",
              "      <th>MD</th>\n",
              "    </tr>\n",
              "  </thead>\n",
              "  <tbody>\n",
              "    <tr>\n",
              "      <th>Matthew Moland</th>\n",
              "      <td>2.65</td>\n",
              "      <td>3.27</td>\n",
              "      <td>5.77</td>\n",
              "      <td>3.90</td>\n",
              "    </tr>\n",
              "    <tr>\n",
              "      <th>Ann Sanders</th>\n",
              "      <td>9.23</td>\n",
              "      <td>2.30</td>\n",
              "      <td>9.31</td>\n",
              "      <td>6.95</td>\n",
              "    </tr>\n",
              "    <tr>\n",
              "      <th>Dustin Craner</th>\n",
              "      <td>4.13</td>\n",
              "      <td>7.99</td>\n",
              "      <td>1.18</td>\n",
              "      <td>4.43</td>\n",
              "    </tr>\n",
              "    <tr>\n",
              "      <th>Joan Oconnell</th>\n",
              "      <td>6.33</td>\n",
              "      <td>1.62</td>\n",
              "      <td>6.65</td>\n",
              "      <td>4.87</td>\n",
              "    </tr>\n",
              "    <tr>\n",
              "      <th>Fred Santos</th>\n",
              "      <td>1.70</td>\n",
              "      <td>1.45</td>\n",
              "      <td>9.95</td>\n",
              "      <td>4.37</td>\n",
              "    </tr>\n",
              "  </tbody>\n",
              "</table>\n",
              "</div>"
            ],
            "text/plain": [
              "                  P1    P2    P3    MD\n",
              "Matthew Moland  2.65  3.27  5.77  3.90\n",
              "Ann Sanders     9.23  2.30  9.31  6.95\n",
              "Dustin Craner   4.13  7.99  1.18  4.43\n",
              "Joan Oconnell   6.33  1.62  6.65  4.87\n",
              "Fred Santos     1.70  1.45  9.95  4.37"
            ]
          },
          "metadata": {},
          "execution_count": 35
        }
      ]
    },
    {
      "cell_type": "markdown",
      "source": [
        "### Cria coluna de resultado"
      ],
      "metadata": {
        "id": "utan9JeAl6vI"
      }
    },
    {
      "cell_type": "code",
      "source": [
        "notas['RESULTADO'] = notas['MD'].apply(lambda x: x >= 5.0 and 'Aprovado' or 'Reprovado')\n",
        "notas.head()"
      ],
      "metadata": {
        "colab": {
          "base_uri": "https://localhost:8080/",
          "height": 206
        },
        "id": "ZK0DU5AJkTNY",
        "outputId": "70ca079c-199b-487f-ac3f-d47059443c18"
      },
      "execution_count": 44,
      "outputs": [
        {
          "output_type": "execute_result",
          "data": {
            "text/html": [
              "<div>\n",
              "<style scoped>\n",
              "    .dataframe tbody tr th:only-of-type {\n",
              "        vertical-align: middle;\n",
              "    }\n",
              "\n",
              "    .dataframe tbody tr th {\n",
              "        vertical-align: top;\n",
              "    }\n",
              "\n",
              "    .dataframe thead th {\n",
              "        text-align: right;\n",
              "    }\n",
              "</style>\n",
              "<table border=\"1\" class=\"dataframe\">\n",
              "  <thead>\n",
              "    <tr style=\"text-align: right;\">\n",
              "      <th></th>\n",
              "      <th>P1</th>\n",
              "      <th>P2</th>\n",
              "      <th>P3</th>\n",
              "      <th>MD</th>\n",
              "      <th>RESULTADO</th>\n",
              "    </tr>\n",
              "  </thead>\n",
              "  <tbody>\n",
              "    <tr>\n",
              "      <th>Matthew Moland</th>\n",
              "      <td>2.65</td>\n",
              "      <td>3.27</td>\n",
              "      <td>5.77</td>\n",
              "      <td>3.90</td>\n",
              "      <td>Reprovado</td>\n",
              "    </tr>\n",
              "    <tr>\n",
              "      <th>Ann Sanders</th>\n",
              "      <td>9.23</td>\n",
              "      <td>2.30</td>\n",
              "      <td>9.31</td>\n",
              "      <td>6.95</td>\n",
              "      <td>Aprovado</td>\n",
              "    </tr>\n",
              "    <tr>\n",
              "      <th>Dustin Craner</th>\n",
              "      <td>4.13</td>\n",
              "      <td>7.99</td>\n",
              "      <td>1.18</td>\n",
              "      <td>4.43</td>\n",
              "      <td>Reprovado</td>\n",
              "    </tr>\n",
              "    <tr>\n",
              "      <th>Joan Oconnell</th>\n",
              "      <td>6.33</td>\n",
              "      <td>1.62</td>\n",
              "      <td>6.65</td>\n",
              "      <td>4.87</td>\n",
              "      <td>Reprovado</td>\n",
              "    </tr>\n",
              "    <tr>\n",
              "      <th>Fred Santos</th>\n",
              "      <td>1.70</td>\n",
              "      <td>1.45</td>\n",
              "      <td>9.95</td>\n",
              "      <td>4.37</td>\n",
              "      <td>Reprovado</td>\n",
              "    </tr>\n",
              "  </tbody>\n",
              "</table>\n",
              "</div>"
            ],
            "text/plain": [
              "                  P1    P2    P3    MD  RESULTADO\n",
              "Matthew Moland  2.65  3.27  5.77  3.90  Reprovado\n",
              "Ann Sanders     9.23  2.30  9.31  6.95   Aprovado\n",
              "Dustin Craner   4.13  7.99  1.18  4.43  Reprovado\n",
              "Joan Oconnell   6.33  1.62  6.65  4.87  Reprovado\n",
              "Fred Santos     1.70  1.45  9.95  4.37  Reprovado"
            ]
          },
          "metadata": {},
          "execution_count": 44
        }
      ]
    },
    {
      "cell_type": "markdown",
      "source": [
        "### Exportando CSV"
      ],
      "metadata": {
        "id": "iAsXw3fmoAvE"
      }
    },
    {
      "cell_type": "code",
      "source": [
        "notas.to_csv('notas.csv')"
      ],
      "metadata": {
        "id": "98mQ29_Zk454"
      },
      "execution_count": 47,
      "outputs": []
    },
    {
      "cell_type": "code",
      "source": [
        ""
      ],
      "metadata": {
        "id": "lC3zKQ4woNFp"
      },
      "execution_count": null,
      "outputs": []
    }
  ]
}