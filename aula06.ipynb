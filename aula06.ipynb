{
  "nbformat": 4,
  "nbformat_minor": 0,
  "metadata": {
    "colab": {
      "name": "aula06.ipynb",
      "provenance": [],
      "authorship_tag": "ABX9TyMRl3qRrlJHlnWe5pEc2cpk",
      "include_colab_link": true
    },
    "kernelspec": {
      "name": "python3",
      "display_name": "Python 3"
    },
    "language_info": {
      "name": "python"
    }
  },
  "cells": [
    {
      "cell_type": "markdown",
      "metadata": {
        "id": "view-in-github",
        "colab_type": "text"
      },
      "source": [
        "<a href=\"https://colab.research.google.com/github/massilva/dominando-data-science/blob/main/aula06.ipynb\" target=\"_parent\"><img src=\"https://colab.research.google.com/assets/colab-badge.svg\" alt=\"Open In Colab\"/></a>"
      ]
    },
    {
      "cell_type": "markdown",
      "source": [
        "# Aula 06"
      ],
      "metadata": {
        "id": "bt5nteHlr-WC"
      }
    },
    {
      "cell_type": "markdown",
      "source": [
        "### Pegando valores a partir de um padrão"
      ],
      "metadata": {
        "id": "4Hi5XvPCr32-"
      }
    },
    {
      "cell_type": "code",
      "execution_count": 3,
      "metadata": {
        "colab": {
          "base_uri": "https://localhost:8080/"
        },
        "id": "AYrQt9lQrjZS",
        "outputId": "8f3ad1e7-ba9b-4e04-dcec-b9de4db0f21e"
      },
      "outputs": [
        {
          "output_type": "execute_result",
          "data": {
            "text/plain": [
              "[1000.0, 2000.5, 3001.0]"
            ]
          },
          "metadata": {},
          "execution_count": 3
        }
      ],
      "source": [
        "import re\n",
        "\n",
        "salamap = ['abaixo de 1000', 'mais de 1001 e abaixo de 3000', 'acima de 3001']\n",
        "numbers = [re.findall('\\d+', item) for item in salamap]\n",
        "mean = [sum(map(int,item))/len(item) for item in numbers]\n",
        "\n",
        "mean"
      ]
    }
  ]
}