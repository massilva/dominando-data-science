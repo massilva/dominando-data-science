{
  "nbformat": 4,
  "nbformat_minor": 0,
  "metadata": {
    "colab": {
      "name": "projeto-album-one-piece.ipynb",
      "provenance": [],
      "collapsed_sections": [],
      "authorship_tag": "ABX9TyMATPIa7ONJRVUNpjLft3wx",
      "include_colab_link": true
    },
    "kernelspec": {
      "name": "python3",
      "display_name": "Python 3"
    },
    "language_info": {
      "name": "python"
    }
  },
  "cells": [
    {
      "cell_type": "markdown",
      "metadata": {
        "id": "view-in-github",
        "colab_type": "text"
      },
      "source": [
        "<a href=\"https://colab.research.google.com/github/massilva/dominando-data-science/blob/main/projeto_album_one_piece.ipynb\" target=\"_parent\"><img src=\"https://colab.research.google.com/assets/colab-badge.svg\" alt=\"Open In Colab\"/></a>"
      ]
    },
    {
      "cell_type": "markdown",
      "metadata": {
        "id": "e_5dr4PlOXfU"
      },
      "source": [
        "## PROJETO: Álbum One Piece 2021\n",
        "\n",
        "Total de cromos: **212**.<br/>\n",
        "Preço do livro ilustrado capa brochura: **R\\$ 10,00**.<br/>\n",
        "Envelope com 4 cromos: **R$ 4,00**.  \n",
        "\n",
        "### SUPOSIÇÕES\n",
        "\n",
        "Todas as figurinhas tem igual probabilidade de serem sorteradas.\n",
        "Um pacotinho é comprado por vez até que se complete o álbum.\n",
        "\n",
        "### ALGORITMO\n",
        "\n",
        "Comprar um pacotinho de figurinhas (4 figurinhas cada, que podem ser repetidas);\n",
        "\n",
        "Colar no álbum e verificar se o álbum está completo;\n",
        "\n",
        "Caso esteja incompleto, comprar mais um pacotinho, caso contrário, terminar.\n",
        "\n",
        "### PERGUNTAS\n",
        "\n",
        "1. Qual o valor médio investido para completar o álbum nessas condições?\n",
        "2. Quantos pacotes são necessários comprar, em média, para completar o álbum?\n",
        "3. Qual é a distribuição empírica do valor investido para completar o álbum?\n",
        "4. Qual a probabilidade de se gastar menos que R$1500,00 para completar o álbum?\n",
        "5. Qual a probabilidade de se gastar mais do que a média para completar o álbum?\n",
        "6. Qual é um intervalo de confiança de 95% para o gasto ao se completar o álbum?\n",
        "7. Qual o valor médio gasto caso se esteja completando o álbum com mais um amigo?\n",
        "8. Qual o valor médio gasto caso se esteja completando o álbum com mais dois amigos?\n",
        "9. Quantas vezes saiu a figurinha mais repetida, em média ?\n",
        "10. Em média, quantas figurinhas não se repetem ao completar o album ?\n",
        "11. Faça um gráfico de porcentagem completa esperada em função do número de pacotes comprados.\n"
      ]
    },
    {
      "cell_type": "markdown",
      "metadata": {
        "id": "HxKBrGOtZr61"
      },
      "source": [
        "### Algoritmo"
      ]
    },
    {
      "cell_type": "code",
      "metadata": {
        "id": "DbIKB65YOz06"
      },
      "source": [
        "import numpy as np\n",
        "\n",
        "total_figurinhas = 7\n",
        "preco_album = 10.0\n",
        "envelope = 4.0\n",
        "fig_no_envelope = 4"
      ],
      "execution_count": 23,
      "outputs": []
    },
    {
      "cell_type": "code",
      "metadata": {
        "colab": {
          "base_uri": "https://localhost:8080/"
        },
        "id": "bb7EcAPuZwi8",
        "outputId": "8a66ce24-2139-4b16-ba59-dbede75d927f"
      },
      "source": [
        "album = np.zeros(total_figurinhas)\n",
        "album_incompleto = True\n",
        "faixa = np.arange(0, total_figurinhas)\n",
        "\n",
        "while album_incompleto:\n",
        "  pacote = np.random.choice(faixa, size = fig_no_envelope)\n",
        "\n",
        "  for figurinha in pacote:\n",
        "    album[figurinha] += 1\n",
        "\n",
        "  album_incompleto = not np.all(album)\n",
        "  \n",
        "album"
      ],
      "execution_count": 24,
      "outputs": [
        {
          "output_type": "execute_result",
          "data": {
            "text/plain": [
              "array([5., 4., 3., 4., 3., 4., 1.])"
            ]
          },
          "metadata": {},
          "execution_count": 24
        }
      ]
    }
  ]
}