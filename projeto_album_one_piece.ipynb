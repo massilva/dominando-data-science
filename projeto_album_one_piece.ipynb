{
  "nbformat": 4,
  "nbformat_minor": 0,
  "metadata": {
    "colab": {
      "name": "projeto-album-one-piece.ipynb",
      "provenance": [],
      "collapsed_sections": [
        "HxKBrGOtZr61",
        "PgVk9DWvmjsj",
        "e7QRuWoXKhdU"
      ],
      "authorship_tag": "ABX9TyNRk9mLmbscM3egP26PwvGi",
      "include_colab_link": true
    },
    "kernelspec": {
      "name": "python3",
      "display_name": "Python 3"
    },
    "language_info": {
      "name": "python"
    }
  },
  "cells": [
    {
      "cell_type": "markdown",
      "metadata": {
        "id": "view-in-github",
        "colab_type": "text"
      },
      "source": [
        "<a href=\"https://colab.research.google.com/github/massilva/dominando-data-science/blob/main/projeto_album_one_piece.ipynb\" target=\"_parent\"><img src=\"https://colab.research.google.com/assets/colab-badge.svg\" alt=\"Open In Colab\"/></a>"
      ]
    },
    {
      "cell_type": "markdown",
      "metadata": {
        "id": "e_5dr4PlOXfU"
      },
      "source": [
        "## PROJETO: Álbum One Piece 2021\n",
        "\n",
        "Total de cromos: **212**.<br/>\n",
        "Preço do livro ilustrado capa brochura: **R\\$ 10,00**.<br/>\n",
        "Envelope com 4 cromos: **R$ 4,00**.  \n",
        "\n",
        "### SUPOSIÇÕES\n",
        "\n",
        "Todas as figurinhas tem igual probabilidade de serem sorteradas.\n",
        "Um pacotinho é comprado por vez até que se complete o álbum.\n",
        "\n",
        "### ALGORITMO\n",
        "\n",
        "Comprar um pacotinho de figurinhas (4 figurinhas cada, que podem ser repetidas);\n",
        "\n",
        "Colar no álbum e verificar se o álbum está completo;\n",
        "\n",
        "Caso esteja incompleto, comprar mais um pacotinho, caso contrário, terminar.\n",
        "\n",
        "### PERGUNTAS\n",
        "\n",
        "1. Qual o valor médio investido para completar o álbum nessas condições?\n",
        "2. Quantos pacotes são necessários comprar, em média, para completar o álbum?\n",
        "3. Qual é a distribuição empírica do valor investido para completar o álbum?\n",
        "4. Qual a probabilidade de se gastar menos que R$1500,00 para completar o álbum?\n",
        "5. Qual a probabilidade de se gastar mais do que a média para completar o álbum?\n",
        "6. Qual é um intervalo de confiança de 95% para o gasto ao se completar o álbum?\n",
        "7. Qual o valor médio gasto caso se esteja completando o álbum com mais um amigo?\n",
        "8. Qual o valor médio gasto caso se esteja completando o álbum com mais dois amigos?\n",
        "9. Quantas vezes saiu a figurinha mais repetida, em média ?\n",
        "10. Em média, quantas figurinhas não se repetem ao completar o album ?\n",
        "11. Faça um gráfico de porcentagem completa esperada em função do número de pacotes comprados.\n",
        "\n",
        "### Exercícios\n",
        "\n",
        "**Exercício 1**\n",
        "\n",
        "Considere um balde cuja base possui raio $r_1$ e altura igual ao diâmetro da base. Considere também uma esfera de raio $r_2$ cheia de água. Faça um programa que verifique se o volume da esfera cabe no balde, dados os valores de $r_1$ e $r_2$.\n",
        "\n",
        "**Exercício 2**\n",
        "\n",
        "Crie uma função que simule o jogo do jokempô, isto é, dada a entrada de dois jogadores, retorne a indicação de qual deles venceu.\n",
        "\n",
        "**Exercício 3**\n",
        "\n",
        "Faça um programa que simule uma slot machine. Uma slot machine é uma máquina muito comum em cassinos. A pessoa puxa uma alavanca e aparecem na tela 3 símbolos aleatoriamente, de uma lista com diversos deles. Se os símbolos forem iguais, então a pessoa ganha. A pessoa entrar com um tanto escolhido de fichas, e joga até que acabe. Quando o programa terminar, uma mensagem resumindo os totais que ela ganhou deve ser exibida\n"
      ]
    },
    {
      "cell_type": "markdown",
      "metadata": {
        "id": "HxKBrGOtZr61"
      },
      "source": [
        "### Algoritmo"
      ]
    },
    {
      "cell_type": "code",
      "metadata": {
        "id": "bb7EcAPuZwi8"
      },
      "source": [
        "import numpy as np\n",
        "\n",
        "total_figurinhas = 7#212\n",
        "preco_album = 10.0\n",
        "preco_envelope = 4.0\n",
        "fig_no_envelope = 4\n",
        "\n",
        "def simula_album():\n",
        "  album = np.zeros(total_figurinhas)\n",
        "  album_incompleto = True\n",
        "  faixa = np.arange(0, total_figurinhas)\n",
        "  qtd_pacotes = 0\n",
        "\n",
        "  while album_incompleto:\n",
        "    pacote = np.random.choice(faixa, size = fig_no_envelope)\n",
        "    qtd_pacotes += 1\n",
        "\n",
        "    for figurinha in pacote:\n",
        "      album[figurinha] += 1\n",
        "\n",
        "    album_incompleto = not np.all(album)\n",
        "\n",
        "  return qtd_pacotes * preco_envelope + preco_album, qtd_pacotes"
      ],
      "execution_count": 2,
      "outputs": []
    },
    {
      "cell_type": "markdown",
      "metadata": {
        "id": "PgVk9DWvmjsj"
      },
      "source": [
        "### Perguntas"
      ]
    },
    {
      "cell_type": "code",
      "metadata": {
        "colab": {
          "base_uri": "https://localhost:8080/"
        },
        "id": "0RfHI0PGmrK7",
        "outputId": "40e1ad41-dcd7-4c37-cfaa-21c7bab3923f"
      },
      "source": [
        "simulacoes, resultados, pacotes = 100, [], 0\n",
        "\n",
        "for _ in range(simulacoes):\n",
        "  custo, qtd_pacotes = simula_album()\n",
        "  resultados.append(custo);\n",
        "  pacotes += qtd_pacotes\n",
        "\n",
        "resultados = np.array(resultados)\n",
        "media = resultados.mean()\n",
        "print(f'01. Valor médio investido: {media}')\n",
        "print(f'02. Qtds. de pacotes: {pacotes / simulacoes}')\n"
      ],
      "execution_count": 3,
      "outputs": [
        {
          "output_type": "stream",
          "name": "stdout",
          "text": [
            "1. Valor médio investido: 29.32\n",
            "2. Qtds. de pacotes: 4.83\n"
          ]
        }
      ]
    },
    {
      "cell_type": "code",
      "metadata": {
        "colab": {
          "base_uri": "https://localhost:8080/",
          "height": 283
        },
        "id": "tqISgeRXyttb",
        "outputId": "b88f62d7-7081-4de8-ab48-17a362b8374a"
      },
      "source": [
        "import matplotlib.pyplot as plt\n",
        "\n",
        "plt.hist(resultados, bins = 20, density = True, color = 'royalblue', edgecolor = 'black')\n",
        "plt.title('03. Distribuição Empírica do Valor Gasto para Completar o Álbum')\n",
        "plt.show()"
      ],
      "execution_count": 4,
      "outputs": [
        {
          "output_type": "display_data",
          "data": {
            "image/png": "[encoded data removed]",
            "text/plain": [
              "<Figure size 432x288 with 1 Axes>"
            ]
          },
          "metadata": {
            "needs_background": "light"
          }
        }
      ]
    },
    {
      "cell_type": "code",
      "metadata": {
        "colab": {
          "base_uri": "https://localhost:8080/"
        },
        "id": "8PPAY5NfCRZN",
        "outputId": "cc8f5caa-1bf1-472b-cfe3-7f7d8f8dd59b"
      },
      "source": [
        "prob1 = sum(resultados < 1500) / simulacoes\n",
        "prob2 = sum(resultados > media) / simulacoes\n",
        "\n",
        "print(f'04. A probabilidade de se gastar menos de 1500 é: {prob1 * 100:.2f}%')\n",
        "print(f'05. A probabilidade de se gastar mais do que a média é: {prob2 * 100:.2f}%')"
      ],
      "execution_count": 5,
      "outputs": [
        {
          "output_type": "stream",
          "name": "stdout",
          "text": [
            "4. A probabilidade de se gastar menos de 1500 é: 100.00%\n",
            "5. A probabilidade de se gastar mais do que a média é: 48.00%\n"
          ]
        }
      ]
    },
    {
      "cell_type": "code",
      "metadata": {
        "colab": {
          "base_uri": "https://localhost:8080/"
        },
        "id": "Vg4h_jljDgDb",
        "outputId": "3ed1bf09-d5e4-4c80-ad3b-6e92c4e27090"
      },
      "source": [
        "qts = np.quantile(resultados, [0.025, 0.975])\n",
        "print(f'06. O intervalo de confiança de 95% para o gasto total é ({qts[0]:.2f}, {qts[1]:.2f})')"
      ],
      "execution_count": 6,
      "outputs": [
        {
          "output_type": "stream",
          "name": "stdout",
          "text": [
            "6. O intervalo de confiança de 95% para o gasto total é (22.00, 42.00)\n"
          ]
        }
      ]
    },
    {
      "cell_type": "code",
      "metadata": {
        "colab": {
          "base_uri": "https://localhost:8080/"
        },
        "id": "OkOuycLuI1h4",
        "outputId": "bb3edbf9-2ca7-4c69-87ca-dec13434b91c"
      },
      "source": [
        "def simula_album_2(qtd_albuns=1):\n",
        "  album = np.zeros(total_figurinhas).astype(int)\n",
        "  album_incompleto = True\n",
        "  faixa = np.arange(0, total_figurinhas)\n",
        "  qtd_pacotes = 0\n",
        "\n",
        "  while album_incompleto:\n",
        "    pacote = np.random.choice(faixa, size = fig_no_envelope)\n",
        "    qtd_pacotes += 1\n",
        "\n",
        "    for figurinha in pacote:\n",
        "      album[figurinha] += 1\n",
        "\n",
        "    album_incompleto = not np.all(album)\n",
        "\n",
        "  gasto = qtd_pacotes * preco_envelope + preco_album * qtd_albuns\n",
        "\n",
        "  # gasto por album\n",
        "  return gasto / qtd_albuns, album\n",
        "\n",
        "\n",
        "def simulacao_albuns(qtd, simulacoes = 1000):\n",
        "    return [simula_album_2(qtd) for _ in range(simulacoes)]\n",
        "\n",
        "total_album = np.array([])\n",
        "\n",
        "for qtd in range(2, 4):\n",
        "  simulacao = simulacao_albuns(qtd = qtd, simulacoes = 2)\n",
        "  medias, albuns = zip(*simulacao)\n",
        "  media = np.array(medias).mean()\n",
        "  print(f'0{5 + qtd}. Custo médio entre {qtd} amigos: {round(media, 2)}')\n",
        "\n",
        "  album_somado = np.array(sum(albuns))\n",
        "  total_album = total_album + album_somado if total_album.size else album_somado\n",
        "\n",
        "mais = total_album.max()\n",
        "mais_repete = np.where(total_album == mais)[0]\n",
        "print(f'09. A(s) figurinha(s) que mais se repete é {mais_repete} #{mais}')\n",
        "\n",
        "menos = total_album.min()\n",
        "menos_repete = np.where(total_album == menos)[0]\n",
        "print(f'10. A(s) figurinha(s) que menos se repete é {menos_repete} #{menos}')\n"
      ],
      "execution_count": 35,
      "outputs": [
        {
          "output_type": "stream",
          "name": "stdout",
          "text": [
            "07. Custo médio entre 2 amigos: 19.0\n",
            "08. Custo médio entre 3 amigos: 19.33\n",
            "09. A(s) figurinha(s) que mais se repete é [4] #20\n",
            "10. A(s) figurinha(s) que menos se repete é [3] #8\n"
          ]
        }
      ]
    },
    {
      "cell_type": "markdown",
      "metadata": {
        "id": "e7QRuWoXKhdU"
      },
      "source": [
        "### Exercícios"
      ]
    },
    {
      "cell_type": "code",
      "metadata": {
        "colab": {
          "base_uri": "https://localhost:8080/"
        },
        "id": "nVG26ZbdKpt5",
        "outputId": "6cfccf5f-7fcc-48d4-d32f-95fae45581f7"
      },
      "source": [
        "import math\n",
        "\n",
        "def esfera_cabe_no_balde(r1, r2, verboso=False):\n",
        "  altura = 2 * r1\n",
        "  volume_balde = math.pi * r1 ** 2 * altura\n",
        "  volume_esfera =  math.pi * r2 ** 3 * 4 / 3\n",
        "\n",
        "  if verboso:\n",
        "    print(f'vol. balde: {volume_balde}, vol. esfera: {volume_esfera}, razão: {volume_balde / volume_esfera}')\n",
        "\n",
        "  return volume_balde / volume_esfera >= 1\n",
        "\n",
        "print('EX01')\n",
        "'''\n",
        "Exercício 1\n",
        "Considere um balde cuja base possui raio $r_1$ e altura igual ao diâmetro da base. Considere também uma esfera de raio $r_2$ cheia de água. Faça um programa que verifique se o volume da esfera cabe no balde, dados os valores de $r_1$ e $r_2$.\n",
        "'''\n",
        "\n",
        "r1, r2 = 1, 1\n",
        "print(f'R1: {r1}, R2: {r2}: {esfera_cabe_no_balde(r1, r2)}')\n",
        "\n",
        "def valida(jogador1, jogada1, jogador2, jogada2):\n",
        "  if jogador1.lower() == jogada1 and jogador2.lower() == jogada2:\n",
        "    return jogador1\n",
        "\n",
        "  if jogador1.lower() == jogada2 and jogador2.lower() == jogada1:\n",
        "    return jogador2\n",
        "\n",
        "  return None\n",
        "\n",
        "print()\n",
        "print('EX02')\n",
        "'''\n",
        "Exercício 2\n",
        "Crie uma função que simule o jogo do jokempô, isto é, dada a entrada de dois jogadores, retorne a indicação de qual deles venceu.\n",
        "'''\n",
        "\n",
        "jogadas = ['pedra', 'tesoura', 'papel']\n",
        "ganha_de = {'pedra': 'tesoura', 'tesoura': 'papel', 'papel': 'pedra'}\n",
        "mensagens = {\n",
        "  'pedra': 'A pedra amassou a tesoura !',\n",
        "  'tesoura': 'A tesoura cortou o papel !',\n",
        "  'papel': 'O papel embrulhou a pedra !',\n",
        "}\n",
        "\n",
        "def jokempo(jogador1, jogador2):\n",
        "  jogadores = [jogador1.lower(), jogador2.lower()]\n",
        "  jogada1, jogada2 = jogadores\n",
        "\n",
        "  for jogada in jogadas:\n",
        "    vencedor = valida(jogador1, jogada, jogador2, ganha_de[jogada]) \n",
        "    if vencedor:\n",
        "      return vencedor == jogador1 and 'Jogador 1' or 'Jogador 2', mensagens[jogada]\n",
        "\n",
        "  return None, None\n",
        "\n",
        "for jogada1 in jogadas:\n",
        "  for jogada2 in jogadas:\n",
        "    jogador, mensagem = jokempo(jogada1, jogada2)\n",
        "    mensagem_jogada = f'`{jogada1}` VS `{jogada2}`'\n",
        "    if jogador:\n",
        "      print(f'{mensagem_jogada}: O {jogador} venceu, {mensagem}')\n",
        "    else:\n",
        "      print(f'{mensagem_jogada}: Houve empate')\n",
        "\n",
        "print()\n",
        "print('EX03')\n",
        "'''\n",
        "Exercício 3\n",
        "Faça um programa que simule uma slot machine. Uma slot machine é uma máquina muito comum em cassinos. \n",
        "A pessoa puxa uma alavanca e aparecem na tela 3 símbolos aleatoriamente, de uma lista com diversos deles. \n",
        "Se os símbolos forem iguais, então a pessoa ganha. A pessoa entrar com um tanto escolhido de fichas, e \n",
        "joga até que acabe. Quando o programa terminar, uma mensagem resumindo os totais que ela ganhou deve ser exibida\n",
        "'''\n",
        "import random, string\n",
        "\n",
        "simbolos = list(string.ascii_lowercase)\n",
        "\n",
        "def puxa_alavanca():\n",
        "  rodada = random.choices(simbolos, k=3)\n",
        "  return [1 for item in rodada if rodada[0] == item]\n",
        "\n",
        "fichas = 100\n",
        "ganhos = 0\n",
        "\n",
        "for _ in range(fichas):\n",
        "  resultado = puxa_alavanca()\n",
        "  ganhos += len(resultado) == 3 and 1 or 0\n",
        "\n",
        "print(f'De {fichas} ganhou {ganhos} vezes ({ganhos / fichas * 100}%)')\n"
      ],
      "execution_count": 94,
      "outputs": [
        {
          "output_type": "stream",
          "name": "stdout",
          "text": [
            "EX01\n",
            "R1: 1, R2: 1: True\n",
            "\n",
            "EX02\n",
            "`pedra` VS `pedra`: Houve empate\n",
            "`pedra` VS `tesoura`: O Jogador 1 venceu, A pedra amassou a tesoura !\n",
            "`pedra` VS `papel`: O Jogador 2 venceu, O papel embrulhou a pedra !\n",
            "`tesoura` VS `pedra`: O Jogador 2 venceu, A pedra amassou a tesoura !\n",
            "`tesoura` VS `tesoura`: Houve empate\n",
            "`tesoura` VS `papel`: O Jogador 1 venceu, A tesoura cortou o papel !\n",
            "`papel` VS `pedra`: O Jogador 1 venceu, O papel embrulhou a pedra !\n",
            "`papel` VS `tesoura`: O Jogador 2 venceu, A tesoura cortou o papel !\n",
            "`papel` VS `papel`: Houve empate\n",
            "\n",
            "EX03\n",
            "De 100 ganhou 1 vezes (1.0%)\n"
          ]
        }
      ]
    }
  ]
}